{
 "cells": [
  {
   "cell_type": "markdown",
   "metadata": {},
   "source": [
    "# Sequence Analysis with Python\n",
    "\n",
    "Contact: Veli Mäkinen veli.makinen@helsinki.fi"
   ]
  },
  {
   "cell_type": "markdown",
   "metadata": {},
   "source": [
    "The following assignments introduce applications of hashing with ```dict()``` primitive of Python. While doing so, a rudimentary introduction to biological sequences is given. \n",
    "This framework is then enhanced with probabilities, leading to routines to generate random sequences under some constraints, including a general concept of *Markov-chains*. All these components illustrate the usage of ```dict()```, but at the same time introduce some other computational routines to efficiently deal with probabilities.   \n",
    "The function ```collections.defaultdict``` can be useful.\n",
    "\n",
    "Below are some \"suggested\" imports. Feel free to use and modify these, or not. Generally it's good practice to keep most or all imports in one place. Typically very close to the start of notebooks."
   ]
  },
  {
   "cell_type": "code",
   "execution_count": 1,
   "metadata": {
    "ExecuteTime": {
     "end_time": "2019-07-08T22:04:22.831112Z",
     "start_time": "2019-07-08T22:04:22.688031Z"
    }
   },
   "outputs": [],
   "source": [
    "from collections import defaultdict\n",
    "from itertools import product\n",
    "from bs4 import BeautifulSoup\n",
    "import requests\n",
    "import numpy as np\n",
    "from numpy.random import choice\n",
    "import re\n",
    "import numpy.random as random\n",
    "import math"
   ]
  },
  {
   "cell_type": "markdown",
   "metadata": {},
   "source": [
    "The automated TMC tests do not test cell outputs. These are intended to be evaluated in the peer reviews. So it is still be a good idea to make the outputs as clear and informative as possible.\n",
    "\n",
    "To keep TMC tests running as well as possible it is recommended to keep global variable assignments in the notebook to a minimum to avoid potential name clashes and confusion. Additionally you should keep all actual code exection in main guards to keep the test running smoothly. If you run [check_sequence.py](https://raw.githubusercontent.com/saskeli/data-analysis-with-python-summer-2019/master/check_outputs.py) in the `part07-e01_sequence_analysis` folder, the script should finish very quickly and optimally produce no output.\n",
    "\n",
    "If you download data from the internet during execution (codon usage table), the parts where downloading is done should not work if you decide to submit to the tmc server. Local tests should work fine."
   ]
  },
  {
   "cell_type": "markdown",
   "metadata": {},
   "source": [
    "## DNA and RNA\n",
    "\n",
    "A DNA molecule consist, in principle, of a chain of smaller molecules. These smaller molecules have some common basic components (bases) that repeat. For our purposes it is sufficient to know that these bases are nucleotides adenine, cytosine, guanine, and thymine with abbreviations ```A```, ```C```, ```G```, and ```T```. Given a *DNA sequence* e.g. ```ACGATGAGGCTCAT```, one can reverse engineer (with negligible loss of information) the corresponding DNA molecule.\n",
    "\n",
    "Parts of a DNA molecule can *transcribe* into an RNA molecule. In this process, thymine gets replaced by uracil (```U```). \n",
    "\n",
    "\n",
    "1. Write a function ```dna_to_rna``` to convert a given DNA sequence $s$ into an RNA sequence. For the sake of exercise, use ```dict()``` to store the symbol to symbol encoding rules. Create a program to test your function."
   ]
  },
  {
   "cell_type": "code",
   "execution_count": 2,
   "metadata": {
    "ExecuteTime": {
     "end_time": "2019-07-08T22:04:22.841952Z",
     "start_time": "2019-07-08T22:04:22.834721Z"
    }
   },
   "outputs": [
    {
     "name": "stdout",
     "output_type": "stream",
     "text": [
      "AACGUGAUUUC\n"
     ]
    }
   ],
   "source": [
    "\n",
    "def dna_to_rna(s):\n",
    "    \"Transforms the DNA string s into an RNA string.\"\n",
    "    dic = dict(A=\"A\", C=\"C\", G=\"G\", T=\"U\")\n",
    "    return \"\".join(dic[l] for l in s)\n",
    "    \n",
    "if __name__ == '__main__':\n",
    "    print(dna_to_rna(\"AACGTGATTTC\"))"
   ]
  },
  {
   "cell_type": "markdown",
   "metadata": {},
   "source": [
    "### Idea of solution\n",
    "\n",
    "fill in "
   ]
  },
  {
   "cell_type": "markdown",
   "metadata": {},
   "source": [
    "### Discussion\n",
    "\n",
    "fill in "
   ]
  },
  {
   "cell_type": "markdown",
   "metadata": {},
   "source": [
    "## Proteins\n",
    "\n",
    "Like DNA and RNA, protein molecule can be interpreted as a chain of smaller molecules, where the bases are now amino acids. RNA molecule may *translate* into a protein molecule, but instead of base by base, three bases of RNA correspond to one base of protein. That is, RNA sequence is read triplet (called codon) at a time. \n",
    "\n",
    "2. Consider the codon to amino acid conversion table in http://htmlpreview.github.io/?https://github.com/csmastersUH/data_analysis_with_python_2020/blob/master/Codon%20usage%20table.html. Write a function ```get_dict``` to read the table into a ```dict()```, such that for each RNA sequence of length 3, say $\\texttt{AGU}$, the hash table stores the conversion rule to the corresponding amino acid. You may store the html page to your local src directory,\n",
    "and parse that file."
   ]
  },
  {
   "cell_type": "code",
   "execution_count": 3,
   "metadata": {
    "ExecuteTime": {
     "end_time": "2019-07-08T22:04:22.867855Z",
     "start_time": "2019-07-08T22:04:22.845885Z"
    }
   },
   "outputs": [],
   "source": [
    "def get_dict():\n",
    "    \"\"\"Reads the hash table for the codon, amino acid pair and outputs the corresponding pair in a dictionary where the codon is the key\"\"\"\n",
    "    \n",
    "    url = 'https://www.kazusa.or.jp/codon/cgi-bin/showcodon.cgi?species=9606&aa=1&style=N'\n",
    "\n",
    "    r = requests.get(url)\n",
    "\n",
    "    html = r.text\n",
    "\n",
    "    soup = BeautifulSoup(html)\n",
    "    soup = soup.get_text()\n",
    "    dict_codon_to_amino = {}\n",
    "\n",
    "    codons_amino = re.findall(r\"[A-Z]{3}\\s[A-Z\\*]\\s\\d\", soup)\n",
    "    if codons_amino != []:\n",
    "        for codon_amino in codons_amino:\n",
    "            codon, amino, _ = codon_amino.split()\n",
    "            dict_codon_to_amino[codon] = amino\n",
    "\n",
    "    return dict_codon_to_amino\n"
   ]
  },
  {
   "cell_type": "markdown",
   "metadata": {},
   "source": [
    "### Idea of solution\n",
    "\n",
    "fill in "
   ]
  },
  {
   "cell_type": "markdown",
   "metadata": {},
   "source": [
    "### Discussion\n",
    "\n",
    "fill in "
   ]
  },
  {
   "cell_type": "markdown",
   "metadata": {},
   "source": [
    "3. Use the same conversion table as above, but now write function `get_dict_list` to read the table into a `dict()`, such that for each amino acid the hash table stores the list of codons encoding it.    "
   ]
  },
  {
   "cell_type": "code",
   "execution_count": 4,
   "metadata": {
    "ExecuteTime": {
     "end_time": "2019-07-08T22:04:22.882386Z",
     "start_time": "2019-07-08T22:04:22.872449Z"
    }
   },
   "outputs": [
    {
     "name": "stdout",
     "output_type": "stream",
     "text": [
      "{'F': ['UUU', 'UUC'], 'S': ['UCU', 'UCC', 'UCA', 'UCG', 'AGU', 'AGC'], 'Y': ['UAU', 'UAC'], 'C': ['UGU', 'UGC'], 'L': ['UUA', 'UUG', 'CUU', 'CUC', 'CUA', 'CUG'], '*': ['UAA', 'UGA', 'UAG'], 'W': ['UGG'], 'P': ['CCU', 'CCC', 'CCA', 'CCG'], 'H': ['CAU', 'CAC'], 'R': ['CGU', 'CGC', 'CGA', 'CGG', 'AGA', 'AGG'], 'Q': ['CAA', 'CAG'], 'I': ['AUU', 'AUC', 'AUA'], 'T': ['ACU', 'ACC', 'ACA', 'ACG'], 'N': ['AAU', 'AAC'], 'K': ['AAA', 'AAG'], 'M': ['AUG'], 'V': ['GUU', 'GUC', 'GUA', 'GUG'], 'A': ['GCU', 'GCC', 'GCA', 'GCG'], 'D': ['GAU', 'GAC'], 'G': ['GGU', 'GGC', 'GGA', 'GGG'], 'E': ['GAA', 'GAG']}\n"
     ]
    }
   ],
   "source": [
    "\n",
    "def get_dict_list():\n",
    "    \"\"\"Uses the get_dict() function to create a dictionary where the keys are the amino acids and the value is a list of codons that\n",
    "    correpond to this amino acid.\"\"\"\n",
    "    codon_to_aa = get_dict()\n",
    "    aa_to_codons = {val:[] for val in codon_to_aa.values()}\n",
    "\n",
    "    for key, val in codon_to_aa.items():\n",
    "        aa_to_codons[val].append(key)\n",
    "    \n",
    "    return aa_to_codons\n",
    "    \n",
    "if __name__ == '__main__':\n",
    "    aa_to_codons = get_dict_list()\n",
    "    print(aa_to_codons)"
   ]
  },
  {
   "cell_type": "markdown",
   "metadata": {},
   "source": [
    "### Idea of solution\n",
    "\n",
    "fill in "
   ]
  },
  {
   "cell_type": "markdown",
   "metadata": {},
   "source": [
    "### Discussion\n",
    "\n",
    "fill in "
   ]
  },
  {
   "cell_type": "markdown",
   "metadata": {},
   "source": [
    "With the conversion tables at hand, the following should be trivial to solve.\n",
    "\n",
    "4. Fill in function ```rna_to_prot``` in the stub solution to convert a given DNA sequence $s$ into a protein sequence. \n",
    "You may use the dictionaries from exercises 2 and 3. You can test your program with `ATGATATCATCGACGATGTAG`."
   ]
  },
  {
   "cell_type": "code",
   "execution_count": 5,
   "metadata": {
    "ExecuteTime": {
     "end_time": "2019-07-08T22:04:22.913321Z",
     "start_time": "2019-07-08T22:04:22.906646Z"
    }
   },
   "outputs": [
    {
     "name": "stdout",
     "output_type": "stream",
     "text": [
      "MISSTM*\n"
     ]
    }
   ],
   "source": [
    "\n",
    "def rna_to_prot(s):\n",
    "    \"\"\"Converts an input DNA sequence s into a protein sequence.\"\"\"\n",
    "    dic = get_dict()\n",
    "    if len(s) % 3 != 0:\n",
    "        return\n",
    "    else:\n",
    "        y = re.findall(r'[A-Z]{3}', s)\n",
    "        return \"\".join([dic[codon] for codon in y])\n",
    "\n",
    "def dna_to_prot(s):\n",
    "    return rna_to_prot(dna_to_rna(s))\n",
    "\n",
    "if __name__ == '__main__':\n",
    "    print(dna_to_prot(\"ATGATATCATCGACGATGTAG\"))"
   ]
  },
  {
   "cell_type": "markdown",
   "metadata": {},
   "source": [
    "### Idea of solution\n",
    "\n",
    "fill in "
   ]
  },
  {
   "cell_type": "markdown",
   "metadata": {},
   "source": [
    "### Discussion\n",
    "\n",
    "fill in "
   ]
  },
  {
   "cell_type": "markdown",
   "metadata": {},
   "source": [
    "You may notice that there are $4^3=64$ different codons, but only 20 amino acids. That is, some triplets encode the same amino acid.  "
   ]
  },
  {
   "cell_type": "markdown",
   "metadata": {},
   "source": [
    "## Reverse translation\n",
    "\n",
    "It has been observed that among the codons coding the same amino acid, some are more frequent than others. These frequencies can be converted to probabilities. E.g. consider codons `AUU`, `AUC`, and `AUA` that code for amino acid isoleucine.\n",
    "If they are observed, say, 36, 47, 17 times, respectively, to code isoleucine in a dataset, the probability that a random such event is `AUU` $\\to$ isoleucine is 36/100.\n",
    "\n",
    "This phenomenon is called *codon adaptation*, and for our purposes it works as a good introduction to generation of random sequences under constraints.   \n",
    "\n",
    "5. Consider the codon adaptation frequencies in http://htmlpreview.github.io/?https://github.com/csmastersUH/data_analysis_with_python_2020/blob/master/Codon%20usage%20table.html and read them into a ```dict()```, such that for each RNA sequence of length 3, say `AGU`, the hash table stores the probability of that codon among codons encoding the same amino acid.\n",
    "Put your solution in the ```get_probabability_dict``` function. Use the column \"([number])\" to estimate the probabilities, as the two preceding columns contain truncated values.  "
   ]
  },
  {
   "cell_type": "code",
   "execution_count": 6,
   "metadata": {
    "ExecuteTime": {
     "end_time": "2019-07-08T22:04:22.966173Z",
     "start_time": "2019-07-08T22:04:22.956013Z"
    }
   },
   "outputs": [
    {
     "name": "stdout",
     "output_type": "stream",
     "text": [
      "{'UUU': 0.4641342698782968, 'UUC': 0.5358657301217032, 'UCU': 0.18758584014344437, 'UCC': 0.21795953165920925, 'UCA': 0.15051714801827132, 'UCG': 0.05439771371883908, 'AGU': 0.14960182300967595, 'AGC': 0.23993794345056002, 'UAU': 0.443338109266921, 'UAC': 0.5566618907330789, 'UGU': 0.45615733050366836, 'UGC': 0.5438426694963316, 'UUA': 0.07656764558436285, 'UUG': 0.1290578537068707, 'CUU': 0.13171591206484023, 'CUC': 0.1955768259144855, 'CUA': 0.0713801723134756, 'CUG': 0.39570159041596514, 'UAA': 0.29701911804823383, 'UGA': 0.46624296805302623, 'UAG': 0.23673791389873997, 'UGG': 1.0, 'CCU': 0.2867313296570278, 'CCC': 0.3234703981288551, 'CCA': 0.2766025276376192, 'CCG': 0.11319574457649788, 'CAU': 0.4185152128433691, 'CAC': 0.5814847871566309, 'CGU': 0.08010752804820104, 'CGC': 0.18377662978978224, 'CGA': 0.1088124833207855, 'CGG': 0.20155434006721587, 'AGA': 0.21465774794262568, 'AGG': 0.21109127083138968, 'CAA': 0.26501675921017337, 'CAG': 0.7349832407898266, 'AUU': 0.36107219301206106, 'AUC': 0.4698662895003286, 'AUA': 0.16906151748761036, 'ACU': 0.2467688440166039, 'ACC': 0.35523154074391966, 'ACA': 0.28418772983891855, 'ACG': 0.11381188540055791, 'AAU': 0.4703669907468028, 'AAC': 0.5296330092531971, 'AAA': 0.43404935110207155, 'AAG': 0.5659506488979285, 'AUG': 1.0, 'GUU': 0.18177011180348712, 'GUC': 0.23830637956135173, 'GUA': 0.11657741053350681, 'GUG': 0.46334609810165434, 'GCU': 0.26592161421413735, 'GCC': 0.39978112134364696, 'GCA': 0.2281212631716276, 'GCG': 0.10617600127058811, 'GAU': 0.4645424191930427, 'GAC': 0.5354575808069573, 'GGU': 0.1630865131632947, 'GGC': 0.33710935809444503, 'GGA': 0.24992165149690412, 'GGG': 0.24988247724535617, 'GAA': 0.42245266280361615, 'GAG': 0.5775473371963838}\n",
      "AAA: 0.434049\tAAC: 0.529633\tAAG: 0.565951\tAAU: 0.470367\tACA: 0.284188\tACC: 0.355232\n",
      "ACG: 0.113812\tACU: 0.246769\tAGA: 0.214658\tAGC: 0.239938\tAGG: 0.211091\tAGU: 0.149602\n",
      "AUA: 0.169062\tAUC: 0.469866\tAUG: 1.000000\tAUU: 0.361072\tCAA: 0.265017\tCAC: 0.581485\n",
      "CAG: 0.734983\tCAU: 0.418515\tCCA: 0.276603\tCCC: 0.323470\tCCG: 0.113196\tCCU: 0.286731\n",
      "CGA: 0.108812\tCGC: 0.183777\tCGG: 0.201554\tCGU: 0.080108\tCUA: 0.071380\tCUC: 0.195577\n",
      "CUG: 0.395702\tCUU: 0.131716\tGAA: 0.422453\tGAC: 0.535458\tGAG: 0.577547\tGAU: 0.464542\n",
      "GCA: 0.228121\tGCC: 0.399781\tGCG: 0.106176\tGCU: 0.265922\tGGA: 0.249922\tGGC: 0.337109\n",
      "GGG: 0.249882\tGGU: 0.163087\tGUA: 0.116577\tGUC: 0.238306\tGUG: 0.463346\tGUU: 0.181770\n",
      "UAA: 0.297019\tUAC: 0.556662\tUAG: 0.236738\tUAU: 0.443338\tUCA: 0.150517\tUCC: 0.217960\n",
      "UCG: 0.054398\tUCU: 0.187586\tUGA: 0.466243\tUGC: 0.543843\tUGG: 1.000000\tUGU: 0.456157\n",
      "UUA: 0.076568\tUUC: 0.535866\tUUG: 0.129058\tUUU: 0.464134\n"
     ]
    }
   ],
   "source": [
    "\n",
    "def get_probabability_dict():\n",
    "    \"\"\"\n",
    "    Return the probability dicitonary with codons as keys and probabilities as values. The probabilities are taken over the space of codons that\n",
    "    represent an amino acid.\n",
    "    \"\"\"\n",
    "    dic_init = {amino:[] for amino in get_dict_list()}\n",
    "    with open(\"table.html\") as my_file:\n",
    "        for line in my_file:\n",
    "            patt_line = re.findall(r'([A-Z]{3,3}) ([A-Z]|\\*).{11}(\\(\\s?\\d*\\))', line)\n",
    "            if len(patt_line) != 4:\n",
    "                continue\n",
    "            else:\n",
    "                for patt_tuple in patt_line:\n",
    "                    amino = patt_tuple[1]\n",
    "                    dic_init[amino].append((patt_tuple[0], int(patt_tuple[2].strip(\"() \"))))\n",
    "    \n",
    "    dic_total = {}\n",
    "    for amino in dic_init:\n",
    "        total = 0\n",
    "        for tuple in dic_init[amino]:\n",
    "            total += tuple[1]\n",
    "        dic_total[amino] = total\n",
    "    \n",
    "    dic_codons = {}\n",
    "    for amino in dic_init:\n",
    "        for tuple in dic_init[amino]:\n",
    "            dic_codons[tuple[0]] = tuple[1] / dic_total[amino]\n",
    "    \n",
    "    return dic_codons\n",
    "\n",
    "    \n",
    "if __name__ == '__main__':\n",
    "    codon_to_prob = get_probabability_dict()\n",
    "    items = sorted(codon_to_prob.items(), key=lambda x: x[0])\n",
    "    for i in range(1 + len(items)//6):\n",
    "        print(\"\\t\".join(\n",
    "            f\"{k}: {v:.6f}\"\n",
    "            for k, v in items[i*6:6+i*6]\n",
    "        ))"
   ]
  },
  {
   "cell_type": "markdown",
   "metadata": {},
   "source": [
    "### Idea of solution\n",
    "\n",
    "fill in "
   ]
  },
  {
   "cell_type": "markdown",
   "metadata": {},
   "source": [
    "### Discussion\n",
    "\n",
    "fill in "
   ]
  },
  {
   "cell_type": "markdown",
   "metadata": {},
   "source": [
    "Now you should have everything in place to easily solve the following.\n",
    "\n",
    "\n",
    "6. Write a class ```ProteinToMaxRNA``` with a ```convert``` method which converts a protein sequence into the most likely RNA sequence to be the source of this protein. Run your program with `LTPIQNRA`."
   ]
  },
  {
   "cell_type": "code",
   "execution_count": 7,
   "metadata": {
    "ExecuteTime": {
     "end_time": "2019-07-08T22:04:23.000743Z",
     "start_time": "2019-07-08T22:04:22.992108Z"
    }
   },
   "outputs": [
    {
     "name": "stdout",
     "output_type": "stream",
     "text": [
      "CUGACCCCCAUCCAGAACAGAGCC\n"
     ]
    }
   ],
   "source": [
    "class ProteinToMaxRNA:\n",
    "    prob_dic = get_probabability_dict()\n",
    "    aa_to_codon = get_dict_list()\n",
    "    \n",
    "    def __init__(self):\n",
    "        pass\n",
    "\n",
    "    def convert(self, s):\n",
    "        \"\"\"Converts a protein sequence into the most likely RNA sequence to be the source of the protein sequence s.\"\"\"\n",
    "        rna_seq = []\n",
    "        for aa in s:\n",
    "            codons = ProteinToMaxRNA.aa_to_codon[aa]\n",
    "            most_likely = codons[0]\n",
    "            for codon in codons:\n",
    "                if ProteinToMaxRNA.prob_dic[codon] > ProteinToMaxRNA.prob_dic[most_likely]:\n",
    "                    most_likely = codon \n",
    "            rna_seq.append(most_likely)\n",
    "        return \"\".join(rna_seq)\n",
    "\n",
    "if __name__ == '__main__':\n",
    "    protein_to_rna = ProteinToMaxRNA()\n",
    "    print(protein_to_rna.convert('LTPIQNRA'))"
   ]
  },
  {
   "cell_type": "markdown",
   "metadata": {},
   "source": [
    "### Idea of solution\n",
    "\n",
    "fill in "
   ]
  },
  {
   "cell_type": "markdown",
   "metadata": {},
   "source": [
    "### Discussion\n",
    "\n",
    "fill in "
   ]
  },
  {
   "cell_type": "markdown",
   "metadata": {},
   "source": [
    "Now we are almost ready to produce random RNA sequences that code a given protein sequence. For this, we need a subroutine to *sample from a probability distribution*. Consider our earlier example of probabilities 36/100, 47/100, and 17/100 for `AUU`, `AUC`, and `AUA`, respectively. \n",
    "Let us assume we have a random number generator ```random()``` that returns a random number from interval $[0,1)$. We may then partition the unit interval according to cumulative probabilities to $[0,36/100), [36/100,83/100), [83/100,1)$, respectively. Depending which interval the number ```random()``` hits, we select the codon accordingly.\n",
    "\n",
    "7. Write a function ```random_event``` that chooses a random event, given a probability distribution (set of events whose probabilities sum to 1).\n",
    "You can use function ```random.uniform``` to produce values uniformly at random from the range $[0,1)$. The distribution should be given to your function as a dictionary from events to their probabilities."
   ]
  },
  {
   "cell_type": "code",
   "execution_count": 10,
   "metadata": {
    "ExecuteTime": {
     "end_time": "2019-07-08T22:04:23.036655Z",
     "start_time": "2019-07-08T22:04:23.030067Z"
    }
   },
   "outputs": [
    {
     "name": "stdout",
     "output_type": "stream",
     "text": [
      "T, T, A, T, C, T, C, T, T, C, C, T, C, C, G, C, T, C, C, G, T, C, T, T, A, T, C, C, A\n"
     ]
    }
   ],
   "source": [
    "def random_event(dist, seed=0):\n",
    "    \"\"\"\n",
    "    Takes as input a dictionary from events to their probabilities.\n",
    "    Return a random event sampled according to the given distribution.\n",
    "    The probabilities must sum to 1.0\n",
    "    \"\"\"\n",
    "    out = random.uniform(0, 1)\n",
    "    ordered_dic = list(dist.items())\n",
    "    dic_prob = {}\n",
    "\n",
    "    init = 0.0\n",
    "    for tuple in ordered_dic:\n",
    "        dic_prob[tuple[0]] = [init, init + tuple[1]]\n",
    "        init += tuple[1]\n",
    "\n",
    "    for event in dic_prob:\n",
    "        if dic_prob[event][0] <=  out <= dic_prob[event][1]:\n",
    "            return event\n",
    "    #return dic_prob #next(iter(dist))\n",
    "\n",
    "if __name__ == '__main__':\n",
    "    distribution = dict(zip(\"ACGT\", [0.10, 0.35, 0.15, 0.40]))\n",
    "    print(\", \".join(random_event(distribution) for _ in range(29)))\n",
    "    #print(random_event(distribution))"
   ]
  },
  {
   "cell_type": "markdown",
   "metadata": {},
   "source": [
    "### Idea of solution\n",
    "\n",
    "fill in "
   ]
  },
  {
   "cell_type": "markdown",
   "metadata": {},
   "source": [
    "### Discussion\n",
    "\n",
    "fill in "
   ]
  },
  {
   "cell_type": "markdown",
   "metadata": {},
   "source": [
    "With this general routine, the following should be easy to solve.\n",
    " \n",
    "8. Write a class ```ProteinToRandomRNA``` to produce a random RNA sequence encoding the input protein sequence according to the input codon adaptation probabilities. The actual conversion is done through the ```convert``` method. Run your program with `LTPIQNRA`."
   ]
  },
  {
   "cell_type": "code",
   "execution_count": 11,
   "metadata": {
    "ExecuteTime": {
     "end_time": "2019-07-08T22:04:23.073660Z",
     "start_time": "2019-07-08T22:04:23.067966Z"
    }
   },
   "outputs": [
    {
     "name": "stdout",
     "output_type": "stream",
     "text": [
      "UUGACUCCUAUUCAAAAUCGGGCA\n"
     ]
    }
   ],
   "source": [
    "class ProteinToRandomRNA(object):\n",
    "    prob_dic = get_probabability_dict()\n",
    "    aa_to_codon = get_dict_list()\n",
    "    \n",
    "    def __init__(self):\n",
    "        pass\n",
    "\n",
    "    def convert(self, s):\n",
    "        \"\"\"Converts the input protein sequence s into a random RNA sequence according to the propability distribution\"\"\"\n",
    "        rna_seq = []\n",
    "        for aa in s:\n",
    "            codons = ProteinToRandomRNA.aa_to_codon[aa]\n",
    "            probabilities = [ProteinToRandomRNA.prob_dic[codon] for codon in codons]\n",
    "            distribution = dict(zip(codons, probabilities))\n",
    "\n",
    "            rna_seq.append(random_event(distribution))\n",
    "        \n",
    "        return \"\".join(rna_seq)\n",
    "        \n",
    "if __name__ == '__main__':\n",
    "    protein_to_random_codons = ProteinToRandomRNA()\n",
    "    print(protein_to_random_codons.convert(\"LTPIQNRA\"))"
   ]
  },
  {
   "cell_type": "markdown",
   "metadata": {},
   "source": [
    "### Idea of solution\n",
    "\n",
    "fill in "
   ]
  },
  {
   "cell_type": "markdown",
   "metadata": {},
   "source": [
    "### Discussion\n",
    "\n",
    "fill in "
   ]
  },
  {
   "cell_type": "markdown",
   "metadata": {},
   "source": [
    "## Generating DNA sequences with higher-order Markov chains\n",
    "\n",
    "We will now reuse the machinery derived above in a related context. We go back to DNA sequences, and consider some easy statistics that can be used to characterize the sequences. \n",
    "First, just the frequencies of bases $\\texttt{A}$, $\\texttt{C}$, $\\texttt{G}$, $\\texttt{T}$ may reveal the species from which the input DNA originates; each species has a different base composition that has been formed during evolution. \n",
    "More interestingly, the areas where DNA to RNA transcription takes place (coding region) have an excess of $\\texttt{C}$ and $\\texttt{G}$ over $\\texttt{A}$ and $\\texttt{T}$. To detect such areas a common routine is to just use a *sliding window* of fixed size, say $k$, and compute for each window position \n",
    "$T[i..i+k-1]$ the base frequencies, where $T[1..n]$ is the input DNA sequence. When sliding the window from  $T[i..i+k-1]$ to $T[i+1..i+k]$ frequency $f(T[i])$ gets decreases by one and $f(T[i+k])$ gets increased by one. \n",
    "\n",
    "9. Write a *generator* ```sliding_window``` to compute sliding window base frequencies so that each moving of the window takes constant time. We saw in the beginning of the course one way how to create generators using\n",
    "  generator expression. Here we use a different way. For the function ```sliding_window``` to be a generator, it must have at least   one ```yield``` expression, see [https://docs.python.org/3/reference/expressions.html#yieldexpr](https://docs.python.org/3/reference/expressions.html#yieldexpr).\n",
    "  \n",
    "  Here is an example of a generator expression that works similarily to the built in `range` generator:\n",
    "  ```Python\n",
    "  def range(a, b=None, c=1):\n",
    "      current = 0 if b == None else a\n",
    "      end = a if b == None else b\n",
    "      while current < end:\n",
    "          yield current\n",
    "          current += c\n",
    "  ```\n",
    "  A yield expression can be used to return a value and *temporarily* return from the function."
   ]
  },
  {
   "cell_type": "code",
   "execution_count": 12,
   "metadata": {
    "ExecuteTime": {
     "end_time": "2019-07-08T22:04:23.111365Z",
     "start_time": "2019-07-08T22:04:23.100858Z"
    }
   },
   "outputs": [
    {
     "name": "stdout",
     "output_type": "stream",
     "text": [
      "{'A': 0, 'C': 3, 'T': 1, 'G': 0}\n",
      "{'A': 0, 'C': 3, 'T': 0, 'G': 1}\n",
      "{'A': 1, 'C': 2, 'T': 0, 'G': 1}\n",
      "{'A': 1, 'C': 2, 'T': 0, 'G': 1}\n",
      "{'A': 1, 'C': 1, 'T': 0, 'G': 2}\n",
      "{'A': 1, 'C': 1, 'T': 0, 'G': 2}\n",
      "{'A': 0, 'C': 2, 'T': 0, 'G': 2}\n",
      "{'A': 0, 'C': 2, 'T': 0, 'G': 2}\n",
      "{'A': 0, 'C': 2, 'T': 1, 'G': 1}\n",
      "{'A': 0, 'C': 2, 'T': 2, 'G': 0}\n",
      "{'A': 0, 'C': 1, 'T': 2, 'G': 1}\n",
      "{'A': 0, 'C': 1, 'T': 2, 'G': 1}\n",
      "{'A': 0, 'C': 2, 'T': 1, 'G': 1}\n"
     ]
    }
   ],
   "source": [
    "def sliding_window(s, k):\n",
    "    \"\"\"\n",
    "    Returns a generator that can be iterated over all\n",
    "    starting positions of a k-window in the sequence.\n",
    "    For each starting position the generator returns the nucleotide frequencies\n",
    "    in the window as a dictionary.\n",
    "    \"\"\"\n",
    "    start_index = 0\n",
    "    end_index = k\n",
    "    for _ in s:\n",
    "        if end_index <= len(s):\n",
    "            subword = s[start_index:end_index]\n",
    "        else:\n",
    "            break\n",
    "        \n",
    "        bases = [\"A\", \"C\", \"T\", \"G\"]\n",
    "        dic = { base: subword.count(base) for base in bases}\n",
    "        yield dic\n",
    "\n",
    "        start_index += 1\n",
    "        end_index += 1\n",
    "        \n",
    "    \n",
    "if __name__ == '__main__':\n",
    "    s = \"TCCCGACGGCCTTGCC\"\n",
    "    for d in sliding_window(s, 4):\n",
    "        print(d)"
   ]
  },
  {
   "cell_type": "markdown",
   "metadata": {},
   "source": [
    "### Idea of solution\n",
    "\n",
    "fill in "
   ]
  },
  {
   "cell_type": "markdown",
   "metadata": {},
   "source": [
    "### Discussion\n",
    "\n",
    "fill in "
   ]
  },
  {
   "cell_type": "markdown",
   "metadata": {},
   "source": [
    " \n",
    "Our models so far have been so-called *zero-order* models, as each event has been independent of other events. With sequences, the dependencies of events are naturally encoded by their *contexts*. Considering that a sequence is produced from left-to-right, a *first-order* context for $T[i]$ is $T[i-1]$, that is, the immediately preceding symbol. *First-order Markov chain* is a sequence produced by generating $c=T[i]$ with the probability of event of seeing symbol $c$ after previously generated symbol $a=T[i-1]$. The first symbol of the chain is sampled according to the zero-order model.  \n",
    "The first-order model can naturally be extended to contexts of length $k$, with $T[i]$ depending on $T[i-k..i-1]$. Then the first $k$ symbols of the chain are sampled according to the zero-order model.  The following assignments develop the routines to work with the *higher-order Markov chains*. \n",
    "In what follows, a $k$-mer is a substring $T[i..i+k-1]$ of the sequence at an arbitrary position. \n",
    "\n",
    "10. Write function ```context_list``` that given an input DNA sequence $T$ associates to each $k$-mer $W$ the concatenation of all symbols $c$ that appear after context $W$ in $T$, that is, $T[i..i+k]=Wc$. For example, <span style=\"color:red; font:courier;\">GA</span> is associated to <span style=\"color:blue; font: courier;\">TCT</span> in $T$=<span style=\"font: courier;\">AT<span style=\"color:red;\">GA</span><span style=\"color:blue;\">T</span>ATCATC<span style=\"color:red;\">GA</span><span style=\"color:blue;\">C</span><span style=\"color:red;\">GA</span><span style=\"color:blue;\">T</span>GTAG</span>, when $k=2$."
   ]
  },
  {
   "cell_type": "code",
   "execution_count": 13,
   "metadata": {
    "ExecuteTime": {
     "end_time": "2019-07-08T22:04:23.168108Z",
     "start_time": "2019-07-08T22:04:23.162648Z"
    }
   },
   "outputs": [
    {
     "name": "stdout",
     "output_type": "stream",
     "text": [
      "{'AT': 'GACCC', 'TG': 'A', 'GA': 'TCT', 'TA': 'TG', 'TC': 'AGT', 'CA': 'T', 'CG': 'AA', 'AC': 'G', 'CT': 'A'}\n"
     ]
    }
   ],
   "source": [
    "def context_list(s, k):\n",
    "    \"\"\"Returns dictionary where the keys are k-mers and the values are the concatenation of symbols appearing after each k-mer.\"\"\"\n",
    "    start = 0\n",
    "    dic = {}\n",
    "    while start + k <= len(s) - 1:\n",
    "        kmer = s[start:start + k]\n",
    "        if kmer in dic:\n",
    "            dic[kmer].append(s[start + k])\n",
    "        else:\n",
    "            dic[kmer] = [s[start + k]]\n",
    "        start += 1\n",
    "    for key, val in dic.items():\n",
    "        dic[key] = \"\".join(val)\n",
    "    return dic\n",
    "    \n",
    "if __name__ == '__main__':\n",
    "    k = 2\n",
    "    s = \"ATGATATCATCGACGATCTAG\"\n",
    "    d = context_list(s, k)\n",
    "    print(d)"
   ]
  },
  {
   "cell_type": "markdown",
   "metadata": {},
   "source": [
    "### Idea of solution\n",
    "\n",
    "fill in"
   ]
  },
  {
   "cell_type": "markdown",
   "metadata": {},
   "source": [
    "### Discussion\n",
    "\n",
    "fill in"
   ]
  },
  {
   "cell_type": "markdown",
   "metadata": {},
   "source": [
    "11. With the above solution, write function ```context_probabilities``` to count the frequencies of symbols in each context and convert these frequencies into probabilities. Run `context_probabilities` with $T=$ `ATGATATCATCGACGATGTAG` and $k$ values 0 and 2."
   ]
  },
  {
   "cell_type": "code",
   "execution_count": null,
   "metadata": {
    "ExecuteTime": {
     "end_time": "2019-07-08T22:04:23.218964Z",
     "start_time": "2019-07-08T22:04:23.213773Z"
    }
   },
   "outputs": [
    {
     "name": "stdout",
     "output_type": "stream",
     "text": [
      "{'AT': 'GACCG', 'TG': 'AT', 'GA': 'TCT', 'TA': 'TG', 'TC': 'AG', 'CA': 'T', 'CG': 'AA', 'AC': 'G', 'GT': 'A'}\n",
      "{'AT': {'A': 0.2, 'C': 0.4, 'T': 0.0, 'G': 0.4}, 'TG': {'A': 0.5, 'C': 0.0, 'T': 0.5, 'G': 0.0}, 'GA': {'A': 0.0, 'C': 0.3333333333333333, 'T': 0.6666666666666666, 'G': 0.0}, 'TA': {'A': 0.0, 'C': 0.0, 'T': 0.5, 'G': 0.5}, 'TC': {'A': 0.5, 'C': 0.0, 'T': 0.0, 'G': 0.5}, 'CA': {'A': 0.0, 'C': 0.0, 'T': 1.0, 'G': 0.0}, 'CG': {'A': 1.0, 'C': 0.0, 'T': 0.0, 'G': 0.0}, 'AC': {'A': 0.0, 'C': 0.0, 'T': 0.0, 'G': 1.0}, 'GT': {'A': 1.0, 'C': 0.0, 'T': 0.0, 'G': 0.0}}\n"
     ]
    }
   ],
   "source": [
    "def context_probabilities(s, k):\n",
    "    \"\"\"Converts frequencies from the dictionary context_list(s, k) to probabilities for each k-mer\"\"\"\n",
    "    context_dic = context_list(s, k)\n",
    "    dic = {}\n",
    "    proteins = list(\"ACTG\")\n",
    "    for kmer in context_dic:\n",
    "        dic[kmer] = {protein: (context_dic[kmer].count(protein) / len(context_dic[kmer])) for protein in proteins}\n",
    "    return dic\n",
    "    \n",
    "if __name__ == '__main__':\n",
    "    s = 'ATGATATCATCGACGATGTAG'\n",
    "    k = 2\n",
    "    print(context_list(s, k))\n",
    "    print(context_probabilities(s, k))\n"
   ]
  },
  {
   "cell_type": "markdown",
   "metadata": {},
   "source": [
    "### Idea of solution\n",
    "\n",
    "fill in"
   ]
  },
  {
   "cell_type": "markdown",
   "metadata": {},
   "source": [
    "### Discussion\n",
    "\n",
    "fill in"
   ]
  },
  {
   "cell_type": "markdown",
   "metadata": {},
   "source": [
    "12. With the above solution and the function ```random_event``` from the earlier exercise, write class ```MarkovChain```. Its ```generate``` method should generate a random DNA sequence following the original $k$-th order Markov chain probabilities. "
   ]
  },
  {
   "cell_type": "code",
   "execution_count": 16,
   "metadata": {
    "ExecuteTime": {
     "end_time": "2019-07-08T22:04:23.279315Z",
     "start_time": "2019-07-08T22:04:23.253983Z"
    }
   },
   "outputs": [
    {
     "name": "stdout",
     "output_type": "stream",
     "text": [
      "CATATGATCG\n"
     ]
    }
   ],
   "source": [
    "class MarkovChain:\n",
    "    \n",
    "    def __init__(self, zeroth, kth, k=2):\n",
    "        \"\"\"Initializes the Markov Chain of kth order\"\"\"\n",
    "        self.k = k\n",
    "        self.zeroth = zeroth\n",
    "        self.kth = kth\n",
    "        \n",
    "    def generate(self, n, seed=None):\n",
    "        left = n-self.k\n",
    "\n",
    "        if left < 0:\n",
    "            return\n",
    "        \n",
    "        rna_seq = \"\"\n",
    "        for _ in range(self.k):\n",
    "            protein = random_event(self.zeroth)\n",
    "            rna_seq += protein\n",
    "        \n",
    "        for _ in range(left):\n",
    "            kmer = rna_seq[-self.k:]\n",
    "            protein = random_event(self.kth[kmer])\n",
    "            rna_seq += protein\n",
    "        \n",
    "        return rna_seq\n",
    "\n",
    "\n",
    "if __name__ == '__main__':\n",
    "    zeroth = {'A': 0.2, 'C': 0.19, 'T': 0.31, 'G': 0.3}\n",
    "    kth = {'GT': {'A': 1.0, 'C': 0.0, 'T': 0.0, 'G': 0.0},\n",
    "           'CA': {'A': 0.0, 'C': 0.0, 'T': 1.0, 'G': 0.0},\n",
    "           'TC': {'A': 0.5, 'C': 0.0, 'T': 0.0, 'G': 0.5},\n",
    "           'GA': {'A': 0.0, 'C': 0.3333333333333333, 'T': 0.6666666666666666, 'G': 0.0},\n",
    "           'TG': {'A': 0.5, 'C': 0.0, 'T': 0.5, 'G': 0.0},\n",
    "           'AT': {'A': 0.2, 'C': 0.4, 'T': 0.0, 'G': 0.4},\n",
    "           'TA': {'A': 0.0, 'C': 0.0, 'T': 0.5, 'G': 0.5},\n",
    "           'AC': {'A': 0.0, 'C': 0.0, 'T': 0.0, 'G': 1.0},\n",
    "           'CG': {'A': 1.0, 'C': 0.0, 'T': 0.0, 'G': 0.0}}\n",
    "    n = 10    \n",
    "    seed = 0\n",
    "    mc = MarkovChain(zeroth, kth)\n",
    "    print(mc.generate(n, seed))"
   ]
  },
  {
   "cell_type": "markdown",
   "metadata": {},
   "source": [
    "### Idea of solution\n",
    "\n",
    "fill in"
   ]
  },
  {
   "cell_type": "markdown",
   "metadata": {},
   "source": [
    "### Discussion\n",
    "\n",
    "fill in "
   ]
  },
  {
   "cell_type": "markdown",
   "metadata": {},
   "source": [
    "If you have survived so far without problems, please run your program a few more times with different inputs. At some point you should get a lookup error in your hash-table! The reason for this is not your code, but the way we defined the model: Some $k$-mers may not be among the training data (input sequence $T$), but such can be generated as the first $k$-mer that is generated using the zero-order model.  \n",
    "\n",
    "A general approach to fixing such issues with incomplete training data is to use *pseudo counts*. That is, all imaginable events are initialized to frequency count 1.   \n",
    "\n",
    "13. Write a new solution `context_pseudo_probabilities` based on the solution to problem 11. But this time use pseudo counts in order to obtain a $k$-th order Markov chain that can assign a probability for any DNA sequence. You may use the standard library function `itertools.product` to iterate over all $k$-mer of given length (`product(\"ACGT\", repeat=k)`)."
   ]
  },
  {
   "cell_type": "code",
   "execution_count": null,
   "metadata": {
    "ExecuteTime": {
     "end_time": "2019-07-08T22:04:23.303566Z",
     "start_time": "2019-07-08T22:04:23.296028Z"
    }
   },
   "outputs": [
    {
     "name": "stdout",
     "output_type": "stream",
     "text": [
      "zeroth: {'A': 0.2, 'C': 0.19, 'T': 0.31, 'G': 0.3}\n",
      "AT: {'A': 0.2, 'C': 0.4, 'T': 0.0, 'G': 0.4}\n",
      "TG: {'A': 0.5, 'C': 0.0, 'T': 0.5, 'G': 0.0}\n",
      "GA: {'A': 0.0, 'C': 0.3333333333333333, 'T': 0.6666666666666666, 'G': 0.0}\n",
      "TA: {'A': 0.0, 'C': 0.0, 'T': 0.5, 'G': 0.5}\n",
      "TC: {'A': 0.5, 'C': 0.0, 'T': 0.0, 'G': 0.5}\n",
      "CA: {'A': 0.0, 'C': 0.0, 'T': 1.0, 'G': 0.0}\n",
      "CG: {'A': 1.0, 'C': 0.0, 'T': 0.0, 'G': 0.0}\n",
      "AC: {'A': 0.0, 'C': 0.0, 'T': 0.0, 'G': 1.0}\n",
      "GT: {'A': 1.0, 'C': 0.0, 'T': 0.0, 'G': 0.0}\n",
      "AA: {'A': 0.25, 'C': 0.25, 'G': 0.25, 'T': 0.25}\n",
      "AG: {'A': 0.25, 'C': 0.25, 'G': 0.25, 'T': 0.25}\n",
      "CC: {'A': 0.25, 'C': 0.25, 'G': 0.25, 'T': 0.25}\n",
      "CT: {'A': 0.25, 'C': 0.25, 'G': 0.25, 'T': 0.25}\n",
      "GC: {'A': 0.25, 'C': 0.25, 'G': 0.25, 'T': 0.25}\n",
      "GG: {'A': 0.25, 'C': 0.25, 'G': 0.25, 'T': 0.25}\n",
      "TT: {'A': 0.25, 'C': 0.25, 'G': 0.25, 'T': 0.25}\n",
      "\n",
      " TGATAGCTATGACGACGACG\n"
     ]
    }
   ],
   "source": [
    "def context_pseudo_probabilities(s, k):\n",
    "    '''if k == 0:\n",
    "        return dict(zip(\"ACGT\", [0.25, 0.25, 0.25, 0.25]))\n",
    "    elif k > 0:\n",
    "        prod = product(\"ACGT\", repeat=k)\n",
    "        prod_strings = [str(kmer) for kmer in prod]\n",
    "        context_dic = context_list(s, k)\n",
    "        dic = {}\n",
    "        proteins = list(\"ACTG\")\n",
    "        for kmer in prod_strings:\n",
    "            if kmer in context_dic:\n",
    "                dic[kmer] = {protein: (context_dic[kmer].count(protein) / len(context_dic[kmer])) for protein in proteins}\n",
    "            else:\n",
    "                dic[kmer] = {protein: 0.25 for protein in proteins}\n",
    "        return context_dic'''\n",
    "    context_prob = context_probabilities(s, k)\n",
    "    all_kmers = [\"\".join(tuple) for tuple in product(\"ACGT\", repeat=k)]\n",
    "\n",
    "    for kmer in all_kmers:\n",
    "        if kmer not in context_prob:\n",
    "            context_prob[kmer] = dict(zip(\"ACGT\", [0.25 for _ in range(4)]))\n",
    "\n",
    "    return context_prob\n",
    "\n",
    "    #return #{\"\": \"\"}\n",
    "    \n",
    "if __name__ == '__main__':\n",
    "    k = 2\n",
    "    s = \"ATGATATCATCGACGATGTAG\"\n",
    "    kth = context_pseudo_probabilities(s, k)\n",
    "    #zeroth = context_pseudo_probabilities(s, 0)[\"\"]\n",
    "    print(f\"zeroth: {zeroth}\")\n",
    "    print(\"\\n\".join(f\"{k}: {dict(v)}\" for k, v in kth.items()))\n",
    "    #print(context_pseudo_probabilities(s, k))\n",
    "    print(\"\\n\", MarkovChain(zeroth, kth, k).generate(20))"
   ]
  },
  {
   "cell_type": "markdown",
   "metadata": {},
   "source": [
    "### Idea of solution\n",
    "\n",
    "fill in "
   ]
  },
  {
   "cell_type": "markdown",
   "metadata": {},
   "source": [
    "### Discussion\n",
    "\n",
    "fill in "
   ]
  },
  {
   "cell_type": "markdown",
   "metadata": {},
   "source": [
    "14. Write class ```MarkovProb``` that given the $k$-th order Markov chain developed above to the constructor, its method ```probability``` computes the probability of a given input DNA sequence."
   ]
  },
  {
   "cell_type": "code",
   "execution_count": null,
   "metadata": {
    "ExecuteTime": {
     "end_time": "2019-07-08T22:04:23.346222Z",
     "start_time": "2019-07-08T22:04:23.330779Z"
    }
   },
   "outputs": [
    {
     "name": "stdout",
     "output_type": "stream",
     "text": [
      "Probability of sequence ATGATATCATCGACGATGTAG is 1.128747795414462e-06\n",
      "True\n"
     ]
    }
   ],
   "source": [
    "class MarkovProb:\n",
    "    def __init__(self, k, zeroth, kth):\n",
    "        self.k = k\n",
    "        self.zeroth = zeroth\n",
    "        self.kth = kth\n",
    "        \n",
    "    def probability(self, s):\n",
    "        prob = 1.0\n",
    "\n",
    "        for i in range(self.k):\n",
    "            prob *= self.zeroth[s[i]]\n",
    "\n",
    "        for i in range(self.k, len(s)):\n",
    "            prob *= self.kth[s[i - self.k:i]][s[i]]\n",
    "\n",
    "        return prob\n",
    "\n",
    "    \n",
    "if __name__ == '__main__':\n",
    "    k = 2\n",
    "    kth = context_pseudo_probabilities(\"ATGATATCATCGACGATGTAG\", k)\n",
    "    zeroth = context_pseudo_probabilities(\"ATGATATCATCGACGATGTAG\", 0)[\"\"]\n",
    "    mc = MarkovProb(2, zeroth, kth)\n",
    "    s=\"ATGATATCATCGACGATGTAG\"\n",
    "    print(f\"Probability of sequence {s} is {mc.probability(s)}\")\n",
    "    print(s == 'ATGATATCATCGACGATGTAG')"
   ]
  },
  {
   "cell_type": "markdown",
   "metadata": {},
   "source": [
    "### Idea of solution\n",
    "\n",
    "fill in"
   ]
  },
  {
   "cell_type": "markdown",
   "metadata": {},
   "source": [
    "### Discussion\n",
    "\n",
    "fill in"
   ]
  },
  {
   "cell_type": "markdown",
   "metadata": {},
   "source": [
    "With the last assignment you might end up in trouble with precision, as multiplying many small probabilities gives a really small number in the end. There is an easy fix by using so-called log-transform. \n",
    "Consider computation of $P=s_1 s_2 \\cdots s_n$, where $0\\leq s_i\\leq 1$ for each $i$. Taking logarithm in base 2 from both sides gives $\\log _2 P= \\log _2 (s_1 s_2 \\cdots s_n)=\\log_2 s_1 + \\log_2 s_2 + \\cdots \\log s_n= \\sum_{i=1}^n \\log s_i$, with repeated application of the property that the logarithm of a multiplication of two numbers is the sum of logarithms of the two numbers taken separately. The results is abbreviated as log-probability.\n",
    "\n",
    "15. Write class ```MarkovLog``` that given the $k$-th order Markov chain developed above to the constructor, its method ```log_probability``` computes the log-probability of a given input DNA sequence. Run your program with $T=$ `ATGATATCATCGACGATGTAG` and $k=2$."
   ]
  },
  {
   "cell_type": "code",
   "execution_count": null,
   "metadata": {
    "ExecuteTime": {
     "end_time": "2019-07-08T22:04:23.390453Z",
     "start_time": "2019-07-08T22:04:23.379760Z"
    }
   },
   "outputs": [
    {
     "name": "stdout",
     "output_type": "stream",
     "text": [
      "Log probability of sequence ATGATATCATCGACGATGTAG is -19.75684539937904\n"
     ]
    }
   ],
   "source": [
    "class MarkovLog(object):\n",
    "\n",
    "    def __init__(self, k, zeroth, kth):\n",
    "        self.k = k\n",
    "        self.zeroth = zeroth\n",
    "        self.kth = kth\n",
    "        \n",
    "    def probability(self, s):\n",
    "        prob = 1.0\n",
    "\n",
    "        for i in range(self.k):\n",
    "            prob *= self.zeroth[s[i]]\n",
    "\n",
    "        for i in range(self.k, len(s)):\n",
    "            prob *= self.kth[s[i - self.k:i]][s[i]]\n",
    "\n",
    "        return prob\n",
    "\n",
    "    #def __init__(self, k, zeroth, kth):\n",
    "    #    pass\n",
    "        \n",
    "    def log_probability(self, s):\n",
    "        log_prob = 0.0\n",
    "\n",
    "        for i in range(self.k):\n",
    "            log_prob += math.log2(self.zeroth[s[i]])\n",
    "\n",
    "        for i in range(self.k, len(s)):\n",
    "            log_prob += math.log2(self.kth[s[i - self.k:i]][s[i]])\n",
    "\n",
    "        return log_prob\n",
    "    \n",
    "if __name__ == '__main__':\n",
    "    k = 2\n",
    "    kth = context_pseudo_probabilities(\"ATGATATCATCGACGATGTAG\", k)\n",
    "    zeroth = context_pseudo_probabilities(\"ATGATATCATCGACGATGTAG\", 0)[\"\"]\n",
    "    mc = MarkovLog(2, zeroth, kth)\n",
    "    s=\"ATGATATCATCGACGATGTAG\"\n",
    "    print(f\"Log probability of sequence {s} is {mc.log_probability(s)}\")"
   ]
  },
  {
   "cell_type": "markdown",
   "metadata": {},
   "source": [
    "### Idea of solution\n",
    "\n",
    "fill in"
   ]
  },
  {
   "cell_type": "markdown",
   "metadata": {},
   "source": [
    "### Discussion\n",
    "\n",
    "fill in"
   ]
  },
  {
   "cell_type": "markdown",
   "metadata": {},
   "source": [
    "Finally, if you try to use the code so far for very large inputs, you might observe that the concatenation of symbols following a context occupy considerable amount of space. This is unnecessary, as we only need the frequencies. \n",
    "\n",
    "16. Optimize the space requirement of your code from exercise 13 for the $k$-th order Markov chain by replacing the concatenations by direct computations of the frequencies. Implement this as the\n",
    "  ```better_context_probabilities``` function."
   ]
  },
  {
   "cell_type": "code",
   "execution_count": null,
   "metadata": {
    "ExecuteTime": {
     "end_time": "2019-07-08T22:04:23.422302Z",
     "start_time": "2019-07-08T22:04:23.416330Z"
    }
   },
   "outputs": [
    {
     "name": "stdout",
     "output_type": "stream",
     "text": [
      "AT: {'A': 0.2, 'C': 0.4, 'T': 0.0, 'G': 0.4}\n",
      "TG: {'A': 0.5, 'C': 0.0, 'T': 0.5, 'G': 0.0}\n",
      "GA: {'A': 0.0, 'C': 0.3333333333333333, 'T': 0.6666666666666666, 'G': 0.0}\n",
      "TA: {'A': 0.0, 'C': 0.0, 'T': 1.0, 'G': 0.0}\n",
      "TC: {'A': 0.5, 'C': 0.0, 'T': 0.0, 'G': 0.5}\n",
      "CA: {'A': 0.0, 'C': 0.0, 'T': 1.0, 'G': 0.0}\n",
      "CG: {'A': 1.0, 'C': 0.0, 'T': 0.0, 'G': 0.0}\n",
      "AC: {'A': 0.0, 'C': 0.0, 'T': 0.0, 'G': 1.0}\n",
      "GT: {'A': 1.0, 'C': 0.0, 'T': 0.0, 'G': 0.0}\n",
      "AA: {'A': 0.25, 'C': 0.25, 'G': 0.25, 'T': 0.25}\n",
      "AG: {'A': 0.25, 'C': 0.25, 'G': 0.25, 'T': 0.25}\n",
      "CC: {'A': 0.25, 'C': 0.25, 'G': 0.25, 'T': 0.25}\n",
      "CT: {'A': 0.25, 'C': 0.25, 'G': 0.25, 'T': 0.25}\n",
      "GC: {'A': 0.25, 'C': 0.25, 'G': 0.25, 'T': 0.25}\n",
      "GG: {'A': 0.25, 'C': 0.25, 'G': 0.25, 'T': 0.25}\n",
      "TT: {'A': 0.25, 'C': 0.25, 'G': 0.25, 'T': 0.25}\n"
     ]
    }
   ],
   "source": [
    "def context_probabilities(s, k):\n",
    "    context_dic = context_list(s, k)\n",
    "    dic = {}\n",
    "    proteins = list(\"ACTG\")\n",
    "    for kmer in context_dic:\n",
    "        dic[kmer] = {protein: (context_dic[kmer].count(protein) / len(context_dic[kmer])) for protein in proteins}\n",
    "    return dic\n",
    "\n",
    "def better_context_probabilities(s, k):\n",
    "    start = 0\n",
    "    dic = {}\n",
    "    proteins = list(\"ACTG\")\n",
    "    while start + k < len(s) - 1:\n",
    "        kmer = s[start:start + k]\n",
    "        if kmer not in dic:\n",
    "            dic[kmer] = {protein:0.0 for protein in proteins}\n",
    "        dic[kmer][s[start + k]] += 1.0\n",
    "        start += 1\n",
    "    \n",
    "    dic_probs = {}\n",
    "    for kmer, freq in dic.items():\n",
    "        total = sum(freq.values())\n",
    "        dic_probs[kmer] = {protein: freq[protein] / total for protein in proteins}\n",
    "\n",
    "    for kmer in product(\"ACGT\", repeat=k):\n",
    "        kmer_joint = \"\".join(kmer)\n",
    "        if kmer_joint not in dic_probs:\n",
    "            dic_probs[kmer_joint] = dict(zip(\"ACGT\", [0.25, 0.25 , 0.25, 0.25]))\n",
    "    \n",
    "    return dic_probs\n",
    "\n",
    "if __name__ == '__main__':\n",
    "    k = 2\n",
    "    s = \"ATGATATCATCGACGATGTAG\"\n",
    "    d = better_context_probabilities(s, k)\n",
    "    print(\"\\n\".join(f\"{k}: {v}\" for k, v in d.items()))"
   ]
  },
  {
   "cell_type": "markdown",
   "metadata": {},
   "source": [
    "### Idea of solution\n",
    "\n",
    "fill in"
   ]
  },
  {
   "cell_type": "markdown",
   "metadata": {},
   "source": [
    "### Discussion\n",
    "\n",
    "fill in"
   ]
  },
  {
   "cell_type": "markdown",
   "metadata": {},
   "source": [
    "While the earlier approach of explicit concatenation of symbols following a context suffered from inefficient use of space, it does have a benefit of giving another much simpler strategy to sample from the distribution: \n",
    "observe that an element of the concatenation taken uniformly randomly is sampled exactly with the correct probability. \n",
    "\n",
    "17. Revisit the solution 12 and modify it to directly sample from the concatenation of symbols following a context. The function ```np.random.choice``` may be convenient here. Implement the modified version as the new `SimpleMarkovChain` class."
   ]
  },
  {
   "cell_type": "code",
   "execution_count": null,
   "metadata": {
    "ExecuteTime": {
     "end_time": "2019-07-08T22:04:23.462556Z",
     "start_time": "2019-07-08T22:04:23.453101Z"
    },
    "tags": []
   },
   "outputs": [
    {
     "name": "stdout",
     "output_type": "stream",
     "text": [
      "GATGTATGTA\n"
     ]
    }
   ],
   "source": [
    "class SimpleMarkovChain(object):\n",
    "    def __init__(self, s, k):\n",
    "        self.k = k\n",
    "        self.s = s\n",
    "\n",
    "    def generate(self, n, seed=None):\n",
    "        left = n-k\n",
    "\n",
    "        if left < 0:\n",
    "            return\n",
    "        \n",
    "        context_dic = context_list(s, k)\n",
    "\n",
    "        rna_seq = \"\"\n",
    "        for i in range(self.k):\n",
    "            protein = np.random.choice(np.array(list(\"ACGT\")))\n",
    "            rna_seq += protein\n",
    "        \n",
    "        for i in range(left):\n",
    "            kmer = rna_seq[-self.k:]\n",
    "            if kmer in context_dic:\n",
    "                protein = np.random.choice(np.array(list(context_dic[kmer])))\n",
    "            else:\n",
    "                protein = np.random.choice(np.array(list(\"ACGT\")))\n",
    "            rna_seq += protein\n",
    "        \n",
    "        return rna_seq\n",
    "        \n",
    "if __name__ == '__main__':\n",
    "    k = 2\n",
    "    s = \"ATGATATCATCGACGATGTAG\"\n",
    "    n = 10\n",
    "    seed = 7\n",
    "    mc = SimpleMarkovChain(s, k)\n",
    "    print(mc.generate(n, seed))"
   ]
  },
  {
   "cell_type": "markdown",
   "metadata": {},
   "source": [
    "### Idea of solution\n",
    "\n",
    "fill in"
   ]
  },
  {
   "cell_type": "markdown",
   "metadata": {},
   "source": [
    "### Discussion\n",
    "\n",
    "fill in"
   ]
  },
  {
   "cell_type": "markdown",
   "metadata": {},
   "source": [
    "## $k$-mer index\n",
    "\n",
    "Our $k$-th order Markov chain can now be modified to a handy index structure called $k$-mer index. This index structure associates to each $k$-mer its list of occurrence positions in DNA sequence $T$.  Given a query $k$-mer $W$, one can thus easily list all positions $i$ with  $T[i..k-1]=W$.\n",
    "\n",
    "18. Implement function ```kmer_index``` inspired by your earlier code for the $k$-th order Markov chain. Test your program with `ATGATATCATCGACGATGTAG` and $k=2$."
   ]
  },
  {
   "cell_type": "code",
   "execution_count": null,
   "metadata": {
    "ExecuteTime": {
     "end_time": "2019-07-08T22:04:23.504405Z",
     "start_time": "2019-07-08T22:04:23.494537Z"
    }
   },
   "outputs": [
    {
     "name": "stdout",
     "output_type": "stream",
     "text": [
      "Using string:\n",
      "ATGATATCATCGACGATGTAG\n",
      "012345678901234567890\n",
      "\n",
      "2-mer index is:\n",
      "{'AT': [0, 3, 5, 8, 15], 'TG': [1, 16], 'GA': [2, 11, 14], 'TA': [4, 18], 'TC': [6, 9], 'CA': [7], 'CG': [10, 13], 'AC': [12], 'GT': [17], 'AG': [19]}\n"
     ]
    }
   ],
   "source": [
    "def kmer_index(s, k):\n",
    "    dic = {}\n",
    "    for i in range(len(s) - k + 1):\n",
    "        kmer = s[i:i+k]\n",
    "        if kmer not in dic:\n",
    "            dic[kmer] = [i]\n",
    "        else:\n",
    "            dic[kmer].append(i)\n",
    "    return dic\n",
    "\n",
    "if __name__ == '__main__':\n",
    "    k=2\n",
    "    s = \"ATGATATCATCGACGATGTAG\"\n",
    "    print(\"Using string:\")\n",
    "    print(s)\n",
    "    print(\"\".join([str(i%10) for i in range(len(s))]))\n",
    "    print(f\"\\n{k}-mer index is:\")\n",
    "    d=kmer_index(s, k)\n",
    "    print(dict(d))"
   ]
  },
  {
   "cell_type": "markdown",
   "metadata": {},
   "source": [
    "### Idea of solution\n",
    "\n",
    "fill in"
   ]
  },
  {
   "cell_type": "markdown",
   "metadata": {},
   "source": [
    "### Discussion\n",
    "\n",
    "fill in"
   ]
  },
  {
   "cell_type": "markdown",
   "metadata": {},
   "source": [
    "## Comparison of probability distributions\n",
    "\n",
    "Now that we know how to learn probability distributions from data, we might want to compare two such distributions, for example, to test if our programs work as intended. \n",
    "\n",
    "Let $P=\\{p_1,p_2,\\ldots, p_n\\}$ and $Q=\\{q_1,q_2,\\ldots, q_n\\}$ be two probability distributions for the same set of $n$ events. This means $\\sum_{i=1}^n p_i=\\sum_{i=1}^n q_i=1$, $0\\leq p_j \\leq 1$, and $0\\leq q_j \\leq 1$ for each event $j$. \n",
    "\n",
    "*Kullback-Leibler divergence* is a measure $d()$ for the *relative entropy* of $P$ with respect to $Q$ defined as \n",
    "$d(P||Q)=\\sum_{i=1}^n p_i \\log\\frac{p_i}{q_i}$.\n",
    "\n",
    "\n",
    "This measure is always non-negative, and 0 only when $P=Q$. It can be interpreted as the gain of knowing $Q$ to encode $P$. Note that this measure is not symmetric.\n",
    "\n",
    "19. Write function ```kullback_leibler``` to compute $d(P||Q)$. Test your solution by generating a random RNA sequence\n",
    "  encoding the input protein sequence according to the input codon adaptation probabilities.\n",
    "  Then you should learn the codon adaptation probabilities from the RNA sequence you generated.\n",
    "  Then try the same with uniformly random RNA sequences (which don't have to encode any\n",
    "  specific protein sequence). Compute the relative entropies between the\n",
    "  three distribution (original, predicted, uniform) and you should observe a clear difference.\n",
    "  Because $d(P||Q)$ is not symmetric, you can either print both $d(P||Q)$ and $d(Q||P)$,\n",
    "  or their average.\n",
    "  \n",
    "  This problem may be fairly tricky. Only the `kullback_leibler` function is automatically tested. The codon probabilities is probably a useful helper function. The main guarded section can be completed by filling out the `pass` sections using tooling from previous parts and fixing the *placeholder* lines."
   ]
  },
  {
   "cell_type": "code",
   "execution_count": null,
   "metadata": {
    "ExecuteTime": {
     "end_time": "2019-07-08T22:04:23.557340Z",
     "start_time": "2019-07-08T22:04:23.539188Z"
    }
   },
   "outputs": [
    {
     "name": "stdout",
     "output_type": "stream",
     "text": [
      "{'AAA': 0.018967931195413026, 'AAC': 0.015001000066671112, 'AAG': 0.01770118007867191, 'AAU': 0.02093472898193213, 'ACA': 0.01870124674978332, 'ACC': 0.015134342289485965, 'ACG': 0.011534102273484899, 'ACU': 0.016167744516301086, 'AGA': 0.01880125341689446, 'AGC': 0.014300953396893126, 'AGG': 0.014434295619707981, 'AGU': 0.014834322288152544, 'AUA': 0.014834322288152544, 'AUC': 0.0162010800720048, 'AUG': 0.030502033468897925, 'AUU': 0.01806787119141276, 'CAA': 0.01796786452430162, 'CAC': 0.015701046736449096, 'CAG': 0.01900126675111674, 'CAU': 0.021368091206080405, 'CCA': 0.01880125341689446, 'CCC': 0.01360090672711514, 'CCG': 0.008733915594372957, 'CCU': 0.01303420228015201, 'CGA': 0.012134142276151743, 'CGC': 0.009100606707113807, 'CGG': 0.009267284485632375, 'CGU': 0.006967131142076138, 'CUA': 0.012734182278818588, 'CUC': 0.009800653376891793, 'CUG': 0.02123474898326555, 'CUU': 0.01210080672044803, 'GAA': 0.02066804453630242, 'GAC': 0.017367824521634774, 'GAG': 0.017267817854523634, 'GAU': 0.02190146009733982, 'GCA': 0.019501300086672443, 'GCC': 0.013467564504300287, 'GCG': 0.008533902260150677, 'GCU': 0.013534235615707714, 'GGA': 0.021201413427561835, 'GGC': 0.014567637842522834, 'GGG': 0.014567637842522834, 'GGU': 0.014267617841189413, 'GUA': 0.013300886725781719, 'GUC': 0.009333955597039803, 'GUG': 0.0208680578705247, 'GUU': 0.012034135609040602, 'UAA': 0.015001000066671112, 'UAC': 0.013467564504300287, 'UAG': 0.008367224481632109, 'UAU': 0.015401026735115673, 'UCA': 0.01703446896459764, 'UCC': 0.011967464497633175, 'UCG': 0.008667244482965531, 'UCU': 0.013134208947263151, 'UGA': 0.02506833788919261, 'UGC': 0.017067804520301353, 'UGG': 0.026335089005933728, 'UGU': 0.019501300086672443, 'UUA': 0.011367424494966331, 'UUC': 0.0154676978465231, 'UUG': 0.01536769117941196, 'UUU': 0.016701113407560503}\n",
      "{'AAA': 0.0154676978465231, 'AAC': 0.01526768451230082, 'AAG': 0.016834455630375358, 'AAU': 0.015701046736449096, 'ACA': 0.015501033402226815, 'ACC': 0.01563437562504167, 'ACG': 0.014834322288152544, 'ACU': 0.016634442296153077, 'AGA': 0.015601040069337956, 'AGC': 0.016567771184745648, 'AGG': 0.016534435629041937, 'AGU': 0.016334422294819653, 'AUA': 0.0154676978465231, 'AUC': 0.014367624508300553, 'AUG': 0.0154676978465231, 'AUU': 0.015601040069337956, 'CAA': 0.015001000066671112, 'CAC': 0.015867724514967665, 'CAG': 0.015701046736449096, 'CAU': 0.015067671178078538, 'CCA': 0.015567704513634243, 'CCC': 0.016434428961930796, 'CCG': 0.014934328955263684, 'CCU': 0.01490099339955997, 'CGA': 0.01583438895926395, 'CGC': 0.013767584505633708, 'CGG': 0.015301020068004533, 'CGU': 0.015801053403560236, 'CUA': 0.016601106740449362, 'CUC': 0.015067671178078538, 'CUG': 0.014734315621041402, 'CUU': 0.01583438895926395, 'GAA': 0.016434428961930796, 'GAC': 0.01480098673244883, 'GAG': 0.015501033402226815, 'GAU': 0.015134342289485965, 'GCA': 0.015601040069337956, 'GCC': 0.01480098673244883, 'GCG': 0.015601040069337956, 'GCU': 0.016334422294819653, 'GGA': 0.015501033402226815, 'GGC': 0.016367757850523367, 'GGG': 0.017201146743116208, 'GGU': 0.016234415627708512, 'GUA': 0.01630108673911594, 'GUC': 0.014667644509633974, 'GUG': 0.01573438229215281, 'GUU': 0.016234415627708512, 'UAA': 0.016367757850523367, 'UAC': 0.01666777785185679, 'UAG': 0.017001133408893927, 'UAU': 0.015001000066671112, 'UCA': 0.014934328955263684, 'UCC': 0.014967664510967397, 'UCG': 0.015334355623708247, 'UCU': 0.014367624508300553, 'UGA': 0.014934328955263684, 'UGC': 0.01563437562504167, 'UGG': 0.016267751183412227, 'UGU': 0.014567637842522834, 'UUA': 0.016701113407560503, 'UUC': 0.015501033402226815, 'UUG': 0.0154676978465231, 'UUU': 0.015567704513634243}\n",
      "d(original || predicted) = 95.0825742345617\n",
      "d(predicted || original) = -4.244753494025102\n",
      "\n",
      "d(original || uniform) = 97.55120966282702\n",
      "d(uniform || original) = -4.112796232632756\n",
      "\n",
      "d(predicted || uniform) = 0.06248804583192336\n",
      "d(uniform || predicted) = 0.06404777222191267\n"
     ]
    }
   ],
   "source": [
    "def codon_probabilities(rna):\n",
    "    \"\"\"\n",
    "    Given an RNA sequence, simply calculates the proability of\n",
    "    all 3-mers empirically based on the sequence\n",
    "    \"\"\"\n",
    "    dic = {\"\".join(codon): 0 for codon in product(\"ACGU\", repeat=3)}\n",
    "    for i in range(len(rna)-3):\n",
    "        three_mer = rna[i:i+3]\n",
    "        if three_mer not in dic:\n",
    "            dic[three_mer] = 1\n",
    "        else:\n",
    "            dic[three_mer] += 1\n",
    "\n",
    "    for three_mer in dic:\n",
    "        dic[three_mer] *= 1/(len(rna) - 2)\n",
    "\n",
    "    return dic #{\"\".join(codon): 0 for codon in product(\"ACGU\", repeat=3)}\n",
    "    \n",
    "def kullback_leibler(p, q):\n",
    "    \"\"\"\n",
    "    Computes Kullback-Leibler divergence between two distributions.\n",
    "    Both p and q must be dictionaries from events to probabilities.\n",
    "    The divergence is defined only when q[event] == 0 implies p[event] == 0.\n",
    "    \"\"\"\n",
    "    suma = 0\n",
    "    for event in p:\n",
    "        if (p[event] == 0.0 and q[event] != 0.0) or (p[event] != 0.0 and q[event] == 0.0):\n",
    "            return\n",
    "        elif p[event] == 0 and q[event] == 0:\n",
    "            continue\n",
    "        else:\n",
    "            suma += p[event] * math.log2(p[event] / q[event])\n",
    "    return suma\n",
    "\n",
    "if __name__ == '__main__':\n",
    "    aas = list(\"*ACDEFGHIKLMNPQRSTVWY\") # List of amino acids\n",
    "    n = 10000\n",
    "    \n",
    "    # generate a random protein and some associated rna\n",
    "    protein = \"\".join(choice(aas, n))\n",
    "\n",
    "    rna = ProteinToRandomRNA().convert(protein)\n",
    "    #pass\n",
    "    \n",
    "    # Maybe check that converting back to protein results in the same sequence\n",
    "    #DONE\n",
    "    #pass\n",
    "    \n",
    "    # Calculate codon probabilities of the rna sequence\n",
    "    cp_predicted = codon_probabilities(rna) # placeholder call\n",
    "    print(cp_predicted)\n",
    "    \n",
    "    # Calculate codon probabilities based on the codon usage table\n",
    "    cp_orig = ProteinToMaxRNA().prob_dic #{\"\".join(codon): 0 for codon in product(\"ACGU\", repeat=3)} # placeholder dict\n",
    "    \n",
    "    # Create a completely random RNA sequence and get the codon probabilities\n",
    "    random_rna = \"\".join(choice(list(\"ACGU\"), 3*n))\n",
    "    pass\n",
    "\n",
    "    cp_uniform = codon_probabilities(random_rna) # placeholder call\n",
    "    print(cp_uniform)\n",
    "    #print(cp_uniform)\n",
    "    \n",
    "    print(\"d(original || predicted) =\", kullback_leibler(cp_orig, cp_predicted))\n",
    "    print(\"d(predicted || original) =\", kullback_leibler(cp_predicted, cp_orig))\n",
    "    print()\n",
    "    print(\"d(original || uniform) =\", kullback_leibler(cp_orig, cp_uniform))\n",
    "    print(\"d(uniform || original) =\", kullback_leibler(cp_uniform, cp_orig))\n",
    "    print()\n",
    "    print(\"d(predicted || uniform) =\", kullback_leibler(cp_predicted, cp_uniform))\n",
    "    print(\"d(uniform || predicted) =\", kullback_leibler(cp_uniform, cp_predicted))"
   ]
  },
  {
   "cell_type": "markdown",
   "metadata": {},
   "source": [
    "### Idea of solution\n",
    "\n",
    "fill in"
   ]
  },
  {
   "cell_type": "markdown",
   "metadata": {},
   "source": [
    "### Discussion\n",
    "\n",
    "fill in"
   ]
  },
  {
   "cell_type": "markdown",
   "metadata": {},
   "source": [
    "## Stationary and equilibrium distributions (extra)\n",
    "\n",
    "Let us consider a Markov chain of order one on the set of nucleotides.\n",
    "Its transition probabilities can be expressed as a $4 \\times 4$ matrix\n",
    "$P=(p_{ij})$, where the element $p_{ij}$ gives the probability of the $j$th nucleotide\n",
    "on the condition the previous nucleotide was the $i$th. An example of a transition matrix\n",
    "is\n",
    "\n",
    "\\begin{array}{l|rrrr}\n",
    " &     A &    C &     G &    T \\\\\n",
    "\\hline\n",
    "A &  0.30 &  0.0 &  0.70 &  0.0 \\\\\n",
    "C &  0.00 &  0.4 &  0.00 &  0.6 \\\\\n",
    "G &  0.35 &  0.0 &  0.65 &  0.0 \\\\\n",
    "T &  0.00 &  0.2 &  0.00 &  0.8 \\\\\n",
    "\\end{array}.\n",
    "\n",
    "A distribution $\\pi=(\\pi_1,\\pi_2,\\pi_3,\\pi_4)$ is called *stationary*, if\n",
    "$\\pi = \\pi P$ (the product here is matrix product).\n",
    "\n",
    "20. Write function ```get_stationary_distributions``` that gets a transition matrix as parameter,\n",
    "  and returns the list of stationary distributions. You can do this with NumPy by\n",
    "  first taking transposition of both sides of the above equation to get equation\n",
    "  $\\pi^T = P^T \\pi^T$. Using numpy.linalg.eig take all eigenvectors related to\n",
    "  eigenvalue 1.0. By normalizing these vectors to sum up to one get the stationary distributions\n",
    "  of the original transition matrix. In the ```main``` function print the stationary distributions\n",
    "  of the above transition matrix."
   ]
  },
  {
   "cell_type": "code",
   "execution_count": null,
   "metadata": {
    "ExecuteTime": {
     "end_time": "2019-07-08T22:04:23.591644Z",
     "start_time": "2019-07-08T22:04:23.580588Z"
    }
   },
   "outputs": [
    {
     "name": "stdout",
     "output_type": "stream",
     "text": [
      "[[ 0.33333333  0.          0.66666667  0.        ]\n",
      " [-0.          0.25       -0.          0.75      ]]\n"
     ]
    }
   ],
   "source": [
    "def get_stationary_distributions(transition):\n",
    "    \"\"\"\n",
    "    The function get a transition matrix of a degree one Markov chain as parameter.\n",
    "    It returns a list of stationary distributions, in vector form, for that chain.\n",
    "    \"\"\"\n",
    "    transpose = transition.T\n",
    "    eigenvalues, eigenvectors = np.linalg.eig(transpose)\n",
    "\n",
    "    stationary_vectors = eigenvectors.T[eigenvalues == 1.0]\n",
    "    for vector in stationary_vectors:\n",
    "        vector *= (1/np.sum(vector))\n",
    "    \n",
    "    return stationary_vectors\n",
    "\n",
    "if __name__ == \"__main__\":\n",
    "    transition=np.array([[0.3, 0, 0.7, 0],\n",
    "                         [0, 0.4, 0, 0.6],\n",
    "                         [0.35, 0, 0.65, 0],\n",
    "                         [0, 0.2, 0, 0.8]])\n",
    "    '''print(\"\\n\".join(\n",
    "        \", \".join(\n",
    "            f\"{pv:+.3f}\"\n",
    "            for pv in p) \n",
    "        for p in get_stationary_distributions(transition)))'''\n",
    "    print(get_stationary_distributions(transition))"
   ]
  },
  {
   "cell_type": "markdown",
   "metadata": {},
   "source": [
    "### Idea of solution\n"
   ]
  },
  {
   "cell_type": "markdown",
   "metadata": {},
   "source": [
    "### Discussion\n"
   ]
  },
  {
   "cell_type": "markdown",
   "metadata": {},
   "source": [
    "21. Implement the `kl_divergence` function below so that the main guarded code runs properly. Using your modified Markov chain generator generate a nucleotide sequence $s$ of length $10\\;000$. Choose prefixes of $s$ of lengths $1, 10, 100, 1000$, and $10\\;000$. For each of these prefixes find out their nucleotide distribution (of order 0) using your earlier tool. Use 1 as the pseudo count. Then, for each prefix, compute the KL divergence between the initial distribution and the normalized nucleotide distribution."
   ]
  },
  {
   "cell_type": "code",
   "execution_count": null,
   "metadata": {
    "ExecuteTime": {
     "end_time": "2019-07-08T22:04:23.635060Z",
     "start_time": "2019-07-08T22:04:23.618890Z"
    }
   },
   "outputs": [
    {
     "name": "stdout",
     "output_type": "stream",
     "text": [
      "Transition probabilities are:\n",
      "[[0.3  0.   0.7  0.  ]\n",
      " [0.   0.4  0.   0.6 ]\n",
      " [0.35 0.   0.65 0.  ]\n",
      " [0.   0.2  0.   0.8 ]]\n",
      "Stationary distributions:\n",
      "[[ 0.33333333  0.          0.66666667  0.        ]\n",
      " [-0.          0.25       -0.          0.75      ]]\n",
      "Using [-0.00, 0.25, -0.00, 0.75] as initial distribution\n",
      "\n",
      "KL divergence of stationary distribution prefix of length     1 is 0.29763319\n",
      "KL divergence of stationary distribution prefix of length    10 is 0.88649534\n",
      "KL divergence of stationary distribution prefix of length   100 is 0.41770918\n",
      "KL divergence of stationary distribution prefix of length  1000 is 0.09405583\n",
      "KL divergence of stationary distribution prefix of length 10000 is 0.34413416\n"
     ]
    }
   ],
   "source": [
    "def kl_divergences(initial, transition):\n",
    "    \"\"\"\n",
    "    Calculates the the Kullback-Leibler divergences between empirical distributions\n",
    "    generated using a markov model seeded with an initial distributin and a transition \n",
    "    matrix, and the initial distribution.\n",
    "    Sequences of length [1, 10, 100, 1000, 10000] are generated.\n",
    "    \"\"\"\n",
    "    return zip([1, 10, 100, 1000, 10000], np.random.rand(5))\n",
    "\n",
    "if __name__ == \"__main__\":\n",
    "    transition=np.array([[0.3, 0, 0.7, 0],\n",
    "                         [0, 0.4, 0, 0.6],\n",
    "                         [0.35, 0, 0.65, 0],\n",
    "                         [0, 0.2, 0, 0.8]])\n",
    "    print(\"Transition probabilities are:\")\n",
    "    print(transition)\n",
    "    stationary_distributions = get_stationary_distributions(transition)\n",
    "    print(\"Stationary distributions:\")\n",
    "    print(np.stack(stationary_distributions))\n",
    "    initial = stationary_distributions[1]\n",
    "    print(\"Using [{}] as initial distribution\\n\".format(\", \".join(f\"{v:.2f}\" for v in initial)))\n",
    "    results = kl_divergences(initial, transition)\n",
    "    for prefix_length, divergence in results: # iterate on prefix lengths in order (1, 10, 100...)\n",
    "        print(\"KL divergence of stationary distribution prefix \" \\\n",
    "              \"of length {:5d} is {:.8f}\".format(prefix_length, divergence))"
   ]
  },
  {
   "cell_type": "markdown",
   "metadata": {},
   "source": [
    "### Idea of solution\n",
    "\n",
    "fill in"
   ]
  },
  {
   "cell_type": "markdown",
   "metadata": {},
   "source": [
    "### Discussion\n",
    "fill in"
   ]
  },
  {
   "cell_type": "markdown",
   "metadata": {},
   "source": [
    "22. Implement the following in the ```main``` function.\n",
    "Find the stationary distribution for the following transition matrix:  \n",
    "\n",
    "\\begin{array}{ l | r r r r}\n",
    " & A &     C &     G &     T \\\\\n",
    "\\hline\n",
    "A &  0.30 &  0.10 &  0.50 &  0.10 \\\\\n",
    "C &  0.20 &  0.30 &  0.15 &  0.35 \\\\\n",
    "G &  0.25 &  0.15 &  0.20 &  0.40 \\\\\n",
    "T &  0.35 &  0.20 &  0.40 &  0.05 \\\\\n",
    "\\end{array}\n",
    "\n",
    "Since there is only one stationary distribution, it is called the *equilibrium distribution*.\n",
    "Choose randomly two nucleotide distributions. You can take these from your sleeve or\n",
    "sample them from the Dirichlet distribution. Then for each of these distributions\n",
    "as the initial distribution of the Markov chain, repeat the above experiment.\n",
    "\n",
    "The `main` function should return tuples, where the first element is the (random) initial distribution and the second element contains the results as a list of tuples where the first element is the kl divergence and the second element the empirical nucleotide distribution, for the different prefix lengths.\n",
    "\n",
    "The state distribution should converge to the equilibrium distribution no matter how we\n",
    "start the Markov chain! That is the last line of the tables should have KL-divergence very close to $0$ and an empirical distribution very close to the equilibrium distribution.\n"
   ]
  },
  {
   "cell_type": "code",
   "execution_count": null,
   "metadata": {
    "ExecuteTime": {
     "end_time": "2019-07-08T22:04:23.681300Z",
     "start_time": "2019-07-08T22:04:23.657345Z"
    }
   },
   "outputs": [
    {
     "name": "stdout",
     "output_type": "stream",
     "text": [
      "Transition probabilities are:\n",
      "[[0.3  0.1  0.5  0.1 ]\n",
      " [0.2  0.3  0.15 0.35]\n",
      " [0.25 0.15 0.2  0.4 ]\n",
      " [0.35 0.2  0.4  0.05]]\n"
     ]
    },
    {
     "ename": "IndexError",
     "evalue": "index 0 is out of bounds for axis 0 with size 0",
     "output_type": "error",
     "traceback": [
      "\u001b[1;31m---------------------------------------------------------------------------\u001b[0m",
      "\u001b[1;31mIndexError\u001b[0m                                Traceback (most recent call last)",
      "Cell \u001b[1;32mIn[23], line 16\u001b[0m\n\u001b[0;32m     13\u001b[0m stationary_distributions \u001b[38;5;241m=\u001b[39m get_stationary_distributions(transition)\n\u001b[0;32m     14\u001b[0m \u001b[38;5;66;03m# Uncomment the below line to check that there actually is only one stationary distribution\u001b[39;00m\n\u001b[0;32m     15\u001b[0m \u001b[38;5;66;03m# assert len(stationary_distributions) == 1\u001b[39;00m\n\u001b[1;32m---> 16\u001b[0m equilibrium_distribution \u001b[38;5;241m=\u001b[39m stationary_distributions[\u001b[38;5;241m0\u001b[39m]\n\u001b[0;32m     17\u001b[0m \u001b[38;5;28mprint\u001b[39m(\u001b[38;5;124m\"\u001b[39m\u001b[38;5;124mEquilibrium distribution:\u001b[39m\u001b[38;5;124m\"\u001b[39m)\n\u001b[0;32m     18\u001b[0m \u001b[38;5;28mprint\u001b[39m(equilibrium_distribution)\n",
      "\u001b[1;31mIndexError\u001b[0m: index 0 is out of bounds for axis 0 with size 0"
     ]
    }
   ],
   "source": [
    "def main(transition, equilibrium_distribution):\n",
    "    vals = list(zip(np.random.rand(10), np.random.rand(10, 4) - 0.5))\n",
    "    return zip(np.random.rand(2, 4) - 0.5, \n",
    "               [vals[:5], vals[5:]])\n",
    "\n",
    "\n",
    "if __name__ == \"__main__\":\n",
    "    transition = np.array([[0.3, 0.1, 0.5, 0.1],\n",
    "                           [0.2, 0.3, 0.15, 0.35],\n",
    "                           [0.25, 0.15, 0.2, 0.4],\n",
    "                           [0.35, 0.2, 0.4, 0.05]])\n",
    "    print(\"Transition probabilities are:\", transition, sep=\"\\n\")\n",
    "    stationary_distributions = get_stationary_distributions(transition)\n",
    "    # Uncomment the below line to check that there actually is only one stationary distribution\n",
    "    # assert len(stationary_distributions) == 1\n",
    "    equilibrium_distribution = stationary_distributions[0]\n",
    "    print(\"Equilibrium distribution:\")\n",
    "    print(equilibrium_distribution)\n",
    "    for initial_distribution, results in main(transition, equilibrium_distribution):\n",
    "        print(\"\\nUsing {} as initial distribution:\".format(initial_distribution))\n",
    "        print(\"kl-divergence   empirical distribution\")\n",
    "        print(\"\\n\".join(\"{:.11f}   {}\".format(di, kl) for di, kl in results))"
   ]
  },
  {
   "cell_type": "markdown",
   "metadata": {},
   "source": [
    "### Idea of solution\n",
    "\n",
    "fill in"
   ]
  },
  {
   "cell_type": "markdown",
   "metadata": {},
   "source": [
    "### Discussion\n",
    "fill in"
   ]
  }
 ],
 "metadata": {
  "kernelspec": {
   "display_name": "base",
   "language": "python",
   "name": "python3"
  },
  "language_info": {
   "codemirror_mode": {
    "name": "ipython",
    "version": 3
   },
   "file_extension": ".py",
   "mimetype": "text/x-python",
   "name": "python",
   "nbconvert_exporter": "python",
   "pygments_lexer": "ipython3",
   "version": "3.12.3"
  },
  "varInspector": {
   "cols": {
    "lenName": 16,
    "lenType": 16,
    "lenVar": 40
   },
   "kernels_config": {
    "python": {
     "delete_cmd_postfix": "",
     "delete_cmd_prefix": "del ",
     "library": "var_list.py",
     "varRefreshCmd": "print(var_dic_list())"
    },
    "r": {
     "delete_cmd_postfix": ") ",
     "delete_cmd_prefix": "rm(",
     "library": "var_list.r",
     "varRefreshCmd": "cat(var_dic_list()) "
    }
   },
   "position": {
    "height": "598.85px",
    "left": "1223px",
    "right": "20px",
    "top": "121px",
    "width": "353px"
   },
   "types_to_exclude": [
    "module",
    "function",
    "builtin_function_or_method",
    "instance",
    "_Feature"
   ],
   "window_display": false
  }
 },
 "nbformat": 4,
 "nbformat_minor": 2
}
